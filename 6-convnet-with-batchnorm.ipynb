{
 "cells": [
  {
   "cell_type": "code",
   "execution_count": 1,
   "metadata": {
    "collapsed": false
   },
   "outputs": [
    {
     "name": "stdout",
     "output_type": "stream",
     "text": [
      "Unpickling and reshaping data\n",
      "Finished unpickling and reshaping data\n"
     ]
    }
   ],
   "source": [
    "import tensorflow as tf\n",
    "from get_data import get_cifar_10\n",
    "\n",
    "cifar_10 = get_cifar_10(\"data/cifar_10/\", augment_image=True)"
   ]
  },
  {
   "cell_type": "code",
   "execution_count": 2,
   "metadata": {
    "collapsed": true
   },
   "outputs": [],
   "source": [
    "def weight_variable(shape):\n",
    "    return tf.Variable(tf.truncated_normal(shape, stddev=0.1))\n",
    "\n",
    "def batch_normalize(x, axes, depth):\n",
    "    mean, variance = tf.nn.moments(x, axes)\n",
    "    offset = tf.Variable(tf.zeros([depth]))\n",
    "    scale = tf.Variable(tf.ones([depth]))\n",
    "    return tf.nn.batch_normalization(x, mean, variance, offset, scale, variance_epsilon=1e-5)\n",
    "\n",
    "def conv2d(x, W, depth):\n",
    "    return tf.nn.relu(batch_normalize(tf.nn.conv2d(x, W, strides=[1, 1, 1, 1], padding='SAME'), [0, 1, 2], depth))\n",
    "\n",
    "def max_pool(x):\n",
    "    return tf.nn.max_pool(x, ksize=[1, 2, 2, 1], strides=[1, 2, 2, 1], padding='SAME')\n",
    "\n",
    "def fc(x, W, depth, keep_prob):\n",
    "    return tf.nn.dropout(tf.nn.relu(batch_normalize(tf.matmul(x, W), [0], depth)), keep_prob)"
   ]
  },
  {
   "cell_type": "code",
   "execution_count": 3,
   "metadata": {
    "collapsed": false
   },
   "outputs": [],
   "source": [
    "x = tf.placeholder(tf.float32, [None, 24, 24, 3])\n",
    "keep_prob = tf.placeholder(tf.float32)\n",
    "\n",
    "W_1 = weight_variable([3, 3, 3, 64])\n",
    "conv_1 = conv2d(x, W_1, depth=64)\n",
    "\n",
    "W_2 = weight_variable([3, 3, 64, 64])\n",
    "conv_2 = conv2d(conv_1, W_2, depth=64)\n",
    "\n",
    "max_pool_2 = max_pool(conv_2)\n",
    "\n",
    "W_3 = weight_variable([3, 3, 64, 128])\n",
    "conv_3 = conv2d(max_pool_2, W_3, depth=128)\n",
    "\n",
    "W_4 = weight_variable([3, 3, 128, 128])\n",
    "conv_4 = conv2d(conv_3, W_4, depth=128)\n",
    "\n",
    "max_pool_4 = max_pool(conv_4)\n",
    "max_pool_4_flat = tf.reshape(max_pool_4, [-1, 4608])\n",
    "\n",
    "W_5 = weight_variable([4608, 256])\n",
    "fc_5 = fc(max_pool_4_flat, W_5, depth=256, keep_prob=keep_prob)\n",
    "\n",
    "W_6 = weight_variable([256, 10])\n",
    "b_6 = tf.Variable(tf.zeros([10]))\n",
    "y = tf.matmul(fc_5, W_6) + b_6"
   ]
  },
  {
   "cell_type": "code",
   "execution_count": 4,
   "metadata": {
    "collapsed": true
   },
   "outputs": [],
   "source": [
    "y_true = tf.placeholder(tf.float32, [None, 10])\n",
    "loss = tf.reduce_mean(tf.nn.softmax_cross_entropy_with_logits(logits=y, labels=y_true))\n",
    "\n",
    "learning_rate = tf.Variable(5e-4, trainable=False)\n",
    "lr_update = tf.assign(learning_rate, learning_rate / 10)\n",
    "\n",
    "step = tf.train.AdamOptimizer(learning_rate).minimize(loss)"
   ]
  },
  {
   "cell_type": "code",
   "execution_count": 5,
   "metadata": {
    "collapsed": true
   },
   "outputs": [],
   "source": [
    "sess = tf.Session()"
   ]
  },
  {
   "cell_type": "code",
   "execution_count": 6,
   "metadata": {
    "collapsed": false
   },
   "outputs": [
    {
     "name": "stdout",
     "output_type": "stream",
     "text": [
      "loss at step 0 with learning rate 5.0e-04: 3.18108987808\n",
      "loss at step 2000 with learning rate 5.0e-04: 1.31312680244\n",
      "loss at step 4000 with learning rate 5.0e-04: 0.846875607967\n",
      "loss at step 6000 with learning rate 5.0e-04: 0.860866427422\n",
      "loss at step 8000 with learning rate 5.0e-04: 0.842524468899\n",
      "loss at step 10000 with learning rate 5.0e-04: 0.744912385941\n",
      "loss at step 12000 with learning rate 5.0e-04: 0.581630110741\n",
      "loss at step 14000 with learning rate 5.0e-04: 0.77538394928\n",
      "loss at step 16000 with learning rate 5.0e-04: 0.434930354357\n",
      "loss at step 18000 with learning rate 5.0e-04: 0.512081086636\n",
      "loss at step 20000 with learning rate 5.0e-04: 0.639250636101\n",
      "loss at step 22000 with learning rate 5.0e-05: 0.311663895845\n",
      "loss at step 24000 with learning rate 5.0e-05: 0.512085914612\n",
      "loss at step 26000 with learning rate 5.0e-05: 0.560559809208\n",
      "loss at step 28000 with learning rate 5.0e-05: 0.389711141586\n",
      "loss at step 30000 with learning rate 5.0e-05: 0.562917351723\n",
      "loss at step 32000 with learning rate 5.0e-06: 0.379049003124\n",
      "loss at step 34000 with learning rate 5.0e-06: 0.315663337708\n",
      "loss at step 36000 with learning rate 5.0e-06: 0.359300196171\n",
      "loss at step 38000 with learning rate 5.0e-06: 0.437852889299\n",
      "loss at step 40000 with learning rate 5.0e-06: 0.324565827847\n"
     ]
    }
   ],
   "source": [
    "sess.run(tf.global_variables_initializer())\n",
    "\n",
    "losses = []\n",
    "\n",
    "for i in range(40001):\n",
    "    x_batch, y_batch = cifar_10.train.next_batch(64)\n",
    "    _, current_loss, lr = sess.run([step, loss, learning_rate], {x: x_batch, y_true: y_batch, keep_prob: 0.5})\n",
    "    losses.append(current_loss)\n",
    "    if i % 2000 == 0:\n",
    "        print 'loss at step {} with learning rate {:.1e}: {}'.format(i, lr, current_loss)\n",
    "    if i % 10000 == 0 and i > 10000:\n",
    "        sess.run(lr_update)"
   ]
  },
  {
   "cell_type": "code",
   "execution_count": 7,
   "metadata": {
    "collapsed": false
   },
   "outputs": [],
   "source": [
    "percent_correct = tf.reduce_mean(tf.cast(tf.equal(tf.argmax(y, 1), tf.argmax(y_true, 1)), tf.float32))"
   ]
  },
  {
   "cell_type": "code",
   "execution_count": 8,
   "metadata": {
    "collapsed": false
   },
   "outputs": [
    {
     "name": "stdout",
     "output_type": "stream",
     "text": [
      "0.865\n",
      "0.923\n"
     ]
    }
   ],
   "source": [
    "test_x, test_y = cifar_10.test.next_batch(1000, test_time=True)\n",
    "train_x, train_y = cifar_10.train.next_batch(1000, test_time=True)\n",
    "print sess.run(percent_correct, feed_dict={x: test_x, y_true: test_y, keep_prob: 1})\n",
    "print sess.run(percent_correct, feed_dict={x: train_x, y_true: train_y, keep_prob: 1})"
   ]
  },
  {
   "cell_type": "code",
   "execution_count": 9,
   "metadata": {
    "collapsed": false
   },
   "outputs": [
    {
     "data": {
      "image/png": "[encoded data removed]",
      "text/plain": [
       "<matplotlib.figure.Figure at 0x7f3ac4fc28d0>"
      ]
     },
     "metadata": {},
     "output_type": "display_data"
    },
    {
     "data": {
      "image/png": "[encoded data removed]",
      "text/plain": [
       "<matplotlib.figure.Figure at 0x7f3b142d9090>"
      ]
     },
     "metadata": {},
     "output_type": "display_data"
    },
    {
     "data": {
      "image/png": "[encoded data removed]",
      "text/plain": [
       "<matplotlib.figure.Figure at 0x7f3abdea3c50>"
      ]
     },
     "metadata": {},
     "output_type": "display_data"
    }
   ],
   "source": [
    "import visualizations\n",
    "import numpy.random as nprand\n",
    "\n",
    "visualizations.plot_learning_curve(losses)\n"
   ]
  },
  {
   "cell_type": "code",
   "execution_count": 11,
   "metadata": {
    "collapsed": true
   },
   "outputs": [],
   "source": [
    "sess.close()"
   ]
  },
  {
   "cell_type": "code",
   "execution_count": null,
   "metadata": {
    "collapsed": true
   },
   "outputs": [],
   "source": []
  }
 ],
 "metadata": {
  "kernelspec": {
   "display_name": "Python [tf-gpu]",
   "language": "python",
   "name": "Python [tf-gpu]"
  },
  "language_info": {
   "codemirror_mode": {
    "name": "ipython",
    "version": 2
   },
   "file_extension": ".py",
   "mimetype": "text/x-python",
   "name": "python",
   "nbconvert_exporter": "python",
   "pygments_lexer": "ipython2",
   "version": "2.7.13"
  }
 },
 "nbformat": 4,
 "nbformat_minor": 0
}
